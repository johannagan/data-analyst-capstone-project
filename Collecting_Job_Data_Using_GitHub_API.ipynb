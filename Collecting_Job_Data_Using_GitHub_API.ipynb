{
  "nbformat": 4,
  "nbformat_minor": 0,
  "metadata": {
    "kernelspec": {
      "display_name": "Python 3",
      "language": "python",
      "name": "python3"
    },
    "language_info": {
      "codemirror_mode": {
        "name": "ipython",
        "version": 3
      },
      "file_extension": ".py",
      "mimetype": "text/x-python",
      "name": "python",
      "nbconvert_exporter": "python",
      "pygments_lexer": "ipython3",
      "version": "3.7.6"
    },
    "colab": {
      "name": "Collecting Job Data Using GitHub API.ipynb",
      "provenance": [],
      "include_colab_link": true
    }
  },
  "cells": [
    {
      "cell_type": "markdown",
      "metadata": {
        "id": "view-in-github",
        "colab_type": "text"
      },
      "source": [
        "<a href=\"https://colab.research.google.com/github/johannagan/data-analyst-capstone-project/blob/main/Collecting_Job_Data_Using_GitHub_API.ipynb\" target=\"_parent\"><img src=\"https://colab.research.google.com/assets/colab-badge.svg\" alt=\"Open In Colab\"/></a>"
      ]
    },
    {
      "cell_type": "markdown",
      "metadata": {
        "id": "iK85FtBlCH6n"
      },
      "source": [
        "## Collect Jobs Data using GitHub Jobs API\n"
      ]
    },
    {
      "cell_type": "markdown",
      "metadata": {
        "id": "kqhN4ym2CH6n"
      },
      "source": [
        "Determine the number of job postings for the following languages:\n",
        "\n",
        "-   C\n",
        "-   C#\n",
        "-   C++\n",
        "-   Java\n",
        "-   JavaScript\n",
        "-   Python\n",
        "-   Scala\n",
        "-   Oracle\n",
        "-   SQL Server\n",
        "-   MySQL Server\n",
        "-   PostgreSQL\n",
        "-   MongoDB\n"
      ]
    },
    {
      "cell_type": "code",
      "metadata": {
        "id": "9E2Axjr1CH6n"
      },
      "source": [
        "import requests\n",
        "import json\n"
      ],
      "execution_count": 1,
      "outputs": []
    },
    {
      "cell_type": "code",
      "metadata": {
        "id": "nQzEu6_5CH6n"
      },
      "source": [
        "baseurl = \"https://jobs.github.com/positions.json\""
      ],
      "execution_count": 2,
      "outputs": []
    },
    {
      "cell_type": "code",
      "metadata": {
        "id": "cCIyJISBIf5m"
      },
      "source": [
        "response = requests.get(baseurl)"
      ],
      "execution_count": 3,
      "outputs": []
    },
    {
      "cell_type": "code",
      "metadata": {
        "id": "JdXJ1MmcIjSc"
      },
      "source": [
        "data = response.json()"
      ],
      "execution_count": 4,
      "outputs": []
    },
    {
      "cell_type": "code",
      "metadata": {
        "id": "AnErIm1zCH6o"
      },
      "source": [
        "def get_number_of_jobs(technology):\n",
        "    number_of_jobs = 0\n",
        "\n",
        "    for i in range(len(data)):\n",
        "        desc = data[i]['description']\n",
        "        if technology in desc or technology.lower() in desc or technology.title() in desc or technology.upper() in desc:\n",
        "            number_of_jobs += 1\n",
        "            \n",
        "    return technology,number_of_jobs"
      ],
      "execution_count": 5,
      "outputs": []
    },
    {
      "cell_type": "code",
      "metadata": {
        "colab": {
          "base_uri": "https://localhost:8080/"
        },
        "id": "A-HLRG6UCH6o",
        "outputId": "46c85a4b-0f72-4892-e9ca-301ffca76339"
      },
      "source": [
        "print(get_number_of_jobs('python'))"
      ],
      "execution_count": 6,
      "outputs": [
        {
          "output_type": "stream",
          "text": [
            "('python', 12)\n"
          ],
          "name": "stdout"
        }
      ]
    },
    {
      "cell_type": "markdown",
      "metadata": {
        "id": "-KJBq-ioCH6o"
      },
      "source": [
        "Call the API for the listed technologies and write the results in an excel spreadsheet.\n"
      ]
    },
    {
      "cell_type": "code",
      "metadata": {
        "colab": {
          "base_uri": "https://localhost:8080/"
        },
        "id": "Tg4OjH1KCH6p",
        "outputId": "366d6a5c-bcc5-48ee-8351-2ee71457deb5"
      },
      "source": [
        "!pip install openpyxl\n",
        "from openpyxl import Workbook"
      ],
      "execution_count": 8,
      "outputs": [
        {
          "output_type": "stream",
          "text": [
            "Requirement already satisfied: openpyxl in /usr/local/lib/python3.7/dist-packages (2.5.9)\n",
            "Requirement already satisfied: et-xmlfile in /usr/local/lib/python3.7/dist-packages (from openpyxl) (1.1.0)\n",
            "Requirement already satisfied: jdcal in /usr/local/lib/python3.7/dist-packages (from openpyxl) (1.4.1)\n"
          ],
          "name": "stdout"
        }
      ]
    },
    {
      "cell_type": "markdown",
      "metadata": {
        "id": "_5fAk0fECH6p"
      },
      "source": [
        "Create workbook:\n"
      ]
    },
    {
      "cell_type": "code",
      "metadata": {
        "id": "uuR9MCXICH6p"
      },
      "source": [
        "wb = Workbook()\n",
        "ws = wb.active"
      ],
      "execution_count": 9,
      "outputs": []
    },
    {
      "cell_type": "markdown",
      "metadata": {
        "id": "gqezUlhHCH6p"
      },
      "source": [
        "Find the number of jobs postings for each of the technology:\n"
      ]
    },
    {
      "cell_type": "code",
      "metadata": {
        "id": "MpaJB1CBCH6p"
      },
      "source": [
        "tech_list = [' C ','C#','C++','Java','JavaScript','Python','Scala','Oracle','SQL Server','MySQL Server','PostgreSQL','MongoDB']"
      ],
      "execution_count": 10,
      "outputs": []
    },
    {
      "cell_type": "code",
      "metadata": {
        "colab": {
          "base_uri": "https://localhost:8080/"
        },
        "id": "hOR25C7sJbYq",
        "outputId": "ebf51a0c-a85e-417f-f170-d9765056c5e4"
      },
      "source": [
        "for tech in tech_list:\n",
        "    print(get_number_of_jobs(tech))\n",
        "    ws.append(get_number_of_jobs(tech))"
      ],
      "execution_count": 11,
      "outputs": [
        {
          "output_type": "stream",
          "text": [
            "(' C ', 0)\n",
            "('C#', 5)\n",
            "('C++', 6)\n",
            "('Java', 20)\n",
            "('JavaScript', 14)\n",
            "('Python', 12)\n",
            "('Scala', 11)\n",
            "('Oracle', 3)\n",
            "('SQL Server', 5)\n",
            "('MySQL Server', 0)\n",
            "('PostgreSQL', 3)\n",
            "('MongoDB', 2)\n"
          ],
          "name": "stdout"
        }
      ]
    },
    {
      "cell_type": "markdown",
      "metadata": {
        "id": "Ypjs33HlCH6q"
      },
      "source": [
        "Save into an excel spreadsheet named 'github-job-postings.xlsx':\n"
      ]
    },
    {
      "cell_type": "code",
      "metadata": {
        "id": "2aLlCwZQCH6q"
      },
      "source": [
        "wb.save('github-job-postings.xlsx')"
      ],
      "execution_count": 12,
      "outputs": []
    },
    {
      "cell_type": "code",
      "metadata": {
        "id": "UZLGLPH5JeOM"
      },
      "source": [
        "import pandas as pd"
      ],
      "execution_count": 13,
      "outputs": []
    },
    {
      "cell_type": "code",
      "metadata": {
        "colab": {
          "base_uri": "https://localhost:8080/",
          "height": 390
        },
        "id": "LPGIV1XiJeSn",
        "outputId": "452d2d22-8b2f-4b09-d6ec-0d830eeed9c5"
      },
      "source": [
        "df = pd.read_excel('github-job-postings.xlsx')\n",
        "df"
      ],
      "execution_count": 14,
      "outputs": [
        {
          "output_type": "execute_result",
          "data": {
            "text/html": [
              "<div>\n",
              "<style scoped>\n",
              "    .dataframe tbody tr th:only-of-type {\n",
              "        vertical-align: middle;\n",
              "    }\n",
              "\n",
              "    .dataframe tbody tr th {\n",
              "        vertical-align: top;\n",
              "    }\n",
              "\n",
              "    .dataframe thead th {\n",
              "        text-align: right;\n",
              "    }\n",
              "</style>\n",
              "<table border=\"1\" class=\"dataframe\">\n",
              "  <thead>\n",
              "    <tr style=\"text-align: right;\">\n",
              "      <th></th>\n",
              "      <th>C</th>\n",
              "      <th>0</th>\n",
              "    </tr>\n",
              "  </thead>\n",
              "  <tbody>\n",
              "    <tr>\n",
              "      <th>0</th>\n",
              "      <td>C#</td>\n",
              "      <td>5</td>\n",
              "    </tr>\n",
              "    <tr>\n",
              "      <th>1</th>\n",
              "      <td>C++</td>\n",
              "      <td>6</td>\n",
              "    </tr>\n",
              "    <tr>\n",
              "      <th>2</th>\n",
              "      <td>Java</td>\n",
              "      <td>20</td>\n",
              "    </tr>\n",
              "    <tr>\n",
              "      <th>3</th>\n",
              "      <td>JavaScript</td>\n",
              "      <td>14</td>\n",
              "    </tr>\n",
              "    <tr>\n",
              "      <th>4</th>\n",
              "      <td>Python</td>\n",
              "      <td>12</td>\n",
              "    </tr>\n",
              "    <tr>\n",
              "      <th>5</th>\n",
              "      <td>Scala</td>\n",
              "      <td>11</td>\n",
              "    </tr>\n",
              "    <tr>\n",
              "      <th>6</th>\n",
              "      <td>Oracle</td>\n",
              "      <td>3</td>\n",
              "    </tr>\n",
              "    <tr>\n",
              "      <th>7</th>\n",
              "      <td>SQL Server</td>\n",
              "      <td>5</td>\n",
              "    </tr>\n",
              "    <tr>\n",
              "      <th>8</th>\n",
              "      <td>MySQL Server</td>\n",
              "      <td>0</td>\n",
              "    </tr>\n",
              "    <tr>\n",
              "      <th>9</th>\n",
              "      <td>PostgreSQL</td>\n",
              "      <td>3</td>\n",
              "    </tr>\n",
              "    <tr>\n",
              "      <th>10</th>\n",
              "      <td>MongoDB</td>\n",
              "      <td>2</td>\n",
              "    </tr>\n",
              "  </tbody>\n",
              "</table>\n",
              "</div>"
            ],
            "text/plain": [
              "              C    0\n",
              "0             C#   5\n",
              "1            C++   6\n",
              "2           Java  20\n",
              "3     JavaScript  14\n",
              "4         Python  12\n",
              "5          Scala  11\n",
              "6         Oracle   3\n",
              "7     SQL Server   5\n",
              "8   MySQL Server   0\n",
              "9     PostgreSQL   3\n",
              "10       MongoDB   2"
            ]
          },
          "metadata": {
            "tags": []
          },
          "execution_count": 14
        }
      ]
    }
  ]
}